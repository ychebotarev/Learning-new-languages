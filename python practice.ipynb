{
 "metadata": {
  "name": ""
 },
 "nbformat": 3,
 "nbformat_minor": 0,
 "worksheets": [
  {
   "cells": [
    {
     "cell_type": "markdown",
     "metadata": {},
     "source": [
      "Given a set of ranges: \n",
      "(e.g. S = {(1, 4), (30, 40), (20, 91) ,(8, 10), (6, 7), (3, 9), (9, 12), (11, 14)}. \n",
      "And given a target range R (e.g. R = (3, 13) - meaning the range going from 3 to 13). Write an algorithm to find the smallest set of ranges that covers your target range. All of the ranges in the set must overlap in order to be considered as spanning the entire target range. (In this example, the answer would be {(3, 9), (9, 12), (11, 14)}.\n"
     ]
    },
    {
     "cell_type": "code",
     "collapsed": false,
     "input": [
      "def ranges_intersect(r1,r2):\n",
      "    return False if r1[1] < r2[0] or r1[0] > r2[1] else True\n",
      "\n",
      "def __smallest_range(ar, r_in):\n",
      "    if len(ar) == 0:\n",
      "        return []\n",
      "    if len(ar) == 1:\n",
      "        return ar if conrains(ar[0],r_in) else []\n",
      "    if ar[0][1] < r_in[0]:#ar[0] is useless\n",
      "        return __smallest_range(ar[1:], r_in)\n",
      "    if ar[0][0] > r_in[0]:\n",
      "        return [] #not covering \n",
      "    \n",
      "    r1 = __smallest_range(ar[1:], r_in)\n",
      "    r2 = __smallest_range(ar[1:], (ar[0][1],r_in[1]))\n",
      "    return r1 if \n",
      "    \n",
      "    \n",
      "def smallest_range(ar, r_in):\n",
      "    intersected=[rr for rr in ar if ranges_intersect(rr,r_in)]\n",
      "    intersected=sorted(intersected, key = lambda x: x[0])\n",
      "    \n",
      "    r1 = 1+\n",
      "    \n",
      "    #print(intersected)\n",
      "    print(is_covered(intersected, r_in))\n",
      "            \n",
      "        \n",
      "smallest_range([(1, 4), (30, 40), (20, 91) ,(8, 10), (6, 7), (3, 9), (9, 12), (11, 14) ],(3,14))"
     ],
     "language": "python",
     "metadata": {},
     "outputs": [
      {
       "output_type": "stream",
       "stream": "stdout",
       "text": [
        "[(1, 4), (3, 9), (6, 7), (8, 10), (9, 12), (11, 14)]  ---  (3, 14)\n",
        "[(3, 9), (6, 7), (8, 10), (9, 12), (11, 14)]  ---  (4, 14)\n",
        "[(6, 7), (8, 10), (9, 12), (11, 14)]  ---  (9, 14)\n",
        "[(8, 10), (9, 12), (11, 14)]  ---  (9, 14)\n",
        "[(9, 12), (11, 14)]  ---  (10, 14)\n",
        "[(11, 14)]  ---  (12, 14)\n",
        "1\n",
        "True\n"
       ]
      }
     ],
     "prompt_number": 13
    },
    {
     "cell_type": "markdown",
     "metadata": {},
     "source": [
      "Given predicted stock prices for next n days for a stock e.g : \n",
      "\n",
      "15, 30, 42, 15, 20, 10, 50, 5 find the maximum profit that can be made with a single buy-sell transaction. If no profit can be made return 0. \n",
      "In the example buying at 15 and selling at 50 gives maximum profit. Note that the two prices are neither minimum nor maximum in the array.\n"
     ]
    },
    {
     "cell_type": "code",
     "collapsed": false,
     "input": [
      "def find_max_profit(prices):\n",
      "    if prices is None or len(prices)<2:\n",
      "        return 0\n",
      "    max_profit=0\n",
      "    i1=0\n",
      "    i=1\n",
      "    \n",
      "    while(i<len(prices)):\n",
      "        if prices[i]>prices[i-1]:\n",
      "            max_profit = max(max_profit,prices[i]/prices[i1])\n",
      "        else:\n",
      "            if prices[i]<prices[i1]:\n",
      "                i1=i\n",
      "        i+=1\n",
      "    return max_profit            "
     ],
     "language": "python",
     "metadata": {},
     "outputs": []
    }
   ],
   "metadata": {}
  }
 ]
}